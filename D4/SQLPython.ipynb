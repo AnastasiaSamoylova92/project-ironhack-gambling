{
 "cells": [
  {
   "cell_type": "markdown",
   "metadata": {},
   "source": [
    "# SQL Python"
   ]
  },
  {
   "cell_type": "markdown",
   "metadata": {},
   "source": [
    "## Create a Connection"
   ]
  },
  {
   "cell_type": "code",
   "execution_count": null,
   "metadata": {},
   "outputs": [],
   "source": [
    "!pip install pymysql\n",
    "!pip install cryptography"
   ]
  },
  {
   "cell_type": "code",
   "execution_count": null,
   "metadata": {},
   "outputs": [],
   "source": [
    "import pymysql\n",
    "\n",
    "cnx = pymysql.connect(user='root', password='',\n",
    "                      host='localhost', database='sakila')\n",
    "if cnx.open:\n",
    "    print(\"Connection open\")\n",
    "else:\n",
    "    print(\"Connection is not successfully open\")\n"
   ]
  },
  {
   "cell_type": "markdown",
   "metadata": {},
   "source": [
    "## Connector"
   ]
  },
  {
   "cell_type": "code",
   "execution_count": null,
   "metadata": {},
   "outputs": [],
   "source": [
    "# the object which will interact with the database\n",
    "cursor = cnx.cursor()"
   ]
  },
  {
   "cell_type": "markdown",
   "metadata": {},
   "source": [
    "## READ DATA - Execute the query and retrieve results"
   ]
  },
  {
   "cell_type": "code",
   "execution_count": null,
   "metadata": {},
   "outputs": [],
   "source": [
    "#Execute the Query\n",
    "query = \"SELECT * FROM sakila.actor;\"\n",
    "cursor.execute(query)\n",
    "\n",
    "# The query has been exectued at this point, but the results are still in the cursor\n",
    "result = cursor.fetchall()\n",
    "\n",
    "for element in result:\n",
    "    print(element)\n",
    "    \n",
    "\n",
    "#print(type(result))\n",
    "\n",
    "# this object returns to you the metadata of the selected table\n",
    "cursor.description\n",
    "# returns the METADATA"
   ]
  },
  {
   "cell_type": "markdown",
   "metadata": {},
   "source": [
    "## Load data in Pandas"
   ]
  },
  {
   "cell_type": "code",
   "execution_count": null,
   "metadata": {},
   "outputs": [],
   "source": [
    "import pandas as pd\n",
    "\n",
    "col_names = [header[0] for header in cursor.description]\n",
    "actors = pd.DataFrame(result, columns = col_names)\n",
    "actors.head()\n",
    "# and now its the usual pandas game."
   ]
  },
  {
   "cell_type": "markdown",
   "metadata": {},
   "source": [
    "## Save and Close the connection"
   ]
  },
  {
   "cell_type": "code",
   "execution_count": null,
   "metadata": {},
   "outputs": [],
   "source": [
    "# The Python Wrapper for MSQL has generated changes to the database \n",
    "# which must now be committed, this is done with the command\n",
    "# it's like \"Saving\" the changes made\n",
    "cnx.commit()\n",
    "#The cursor object has done it's job\n",
    "cursor.close()\n",
    "# and we now close the connection, you must always do this (good practice) or else the database might not be responsive to other connections.\n",
    "cnx.close() \n",
    "\n",
    "\n",
    "# Connection Closed?\n",
    "query = \"SELECT * FROM sakila.actor;\"\n",
    "cursor.execute(query)"
   ]
  },
  {
   "cell_type": "markdown",
   "metadata": {},
   "source": [
    "## Pandas vs SQL"
   ]
  },
  {
   "cell_type": "code",
   "execution_count": 18,
   "metadata": {},
   "outputs": [
    {
     "name": "stdout",
     "output_type": "stream",
     "text": [
      "Connection open\n"
     ]
    }
   ],
   "source": [
    "import pymysql\n",
    "\n",
    "cnx = pymysql.connect(user='root', password='',\n",
    "                      host='localhost', database='sakila')\n",
    "if cnx.open:\n",
    "    print(\"Connection open\")\n",
    "else:\n",
    "    print(\"Connection is not successfully open\")\n",
    "\n",
    "# the object which will interact with the database\n",
    "cursor = cnx.cursor()"
   ]
  },
  {
   "cell_type": "markdown",
   "metadata": {},
   "source": [
    "### In Pandas..."
   ]
  },
  {
   "cell_type": "code",
   "execution_count": 15,
   "metadata": {},
   "outputs": [
    {
     "name": "stdout",
     "output_type": "stream",
     "text": [
      "0.1706700325012207\n"
     ]
    },
    {
     "data": {
      "text/html": [
       "<div>\n",
       "<style scoped>\n",
       "    .dataframe tbody tr th:only-of-type {\n",
       "        vertical-align: middle;\n",
       "    }\n",
       "\n",
       "    .dataframe tbody tr th {\n",
       "        vertical-align: top;\n",
       "    }\n",
       "\n",
       "    .dataframe thead th {\n",
       "        text-align: right;\n",
       "    }\n",
       "</style>\n",
       "<table border=\"1\" class=\"dataframe\">\n",
       "  <thead>\n",
       "    <tr style=\"text-align: right;\">\n",
       "      <th></th>\n",
       "      <th>actor_id</th>\n",
       "      <th>first_name</th>\n",
       "      <th>last_name</th>\n",
       "      <th>last_update_x</th>\n",
       "      <th>film_id</th>\n",
       "      <th>last_update_y</th>\n",
       "      <th>title</th>\n",
       "      <th>description</th>\n",
       "      <th>release_year</th>\n",
       "      <th>language_id</th>\n",
       "      <th>original_language_id</th>\n",
       "      <th>rental_duration</th>\n",
       "      <th>rental_rate</th>\n",
       "      <th>length</th>\n",
       "      <th>replacement_cost</th>\n",
       "      <th>rating</th>\n",
       "      <th>special_features</th>\n",
       "      <th>last_update</th>\n",
       "    </tr>\n",
       "  </thead>\n",
       "  <tbody>\n",
       "    <tr>\n",
       "      <th>0</th>\n",
       "      <td>1</td>\n",
       "      <td>PENELOPE</td>\n",
       "      <td>GUINESS</td>\n",
       "      <td>2006-02-15 04:34:33</td>\n",
       "      <td>1</td>\n",
       "      <td>2006-02-15 05:05:03</td>\n",
       "      <td>ACADEMY DINOSAUR</td>\n",
       "      <td>A Epic Drama of a Feminist And a Mad Scientist...</td>\n",
       "      <td>2006</td>\n",
       "      <td>1</td>\n",
       "      <td>None</td>\n",
       "      <td>6</td>\n",
       "      <td>0.99</td>\n",
       "      <td>86</td>\n",
       "      <td>20.99</td>\n",
       "      <td>PG</td>\n",
       "      <td>Deleted Scenes,Behind the Scenes</td>\n",
       "      <td>2006-02-15 05:03:42</td>\n",
       "    </tr>\n",
       "    <tr>\n",
       "      <th>1</th>\n",
       "      <td>1</td>\n",
       "      <td>PENELOPE</td>\n",
       "      <td>GUINESS</td>\n",
       "      <td>2006-02-15 04:34:33</td>\n",
       "      <td>23</td>\n",
       "      <td>2006-02-15 05:05:03</td>\n",
       "      <td>ANACONDA CONFESSIONS</td>\n",
       "      <td>A Lacklusture Display of a Dentist And a Denti...</td>\n",
       "      <td>2006</td>\n",
       "      <td>1</td>\n",
       "      <td>None</td>\n",
       "      <td>3</td>\n",
       "      <td>0.99</td>\n",
       "      <td>92</td>\n",
       "      <td>9.99</td>\n",
       "      <td>R</td>\n",
       "      <td>Trailers,Deleted Scenes</td>\n",
       "      <td>2006-02-15 05:03:42</td>\n",
       "    </tr>\n",
       "    <tr>\n",
       "      <th>2</th>\n",
       "      <td>1</td>\n",
       "      <td>PENELOPE</td>\n",
       "      <td>GUINESS</td>\n",
       "      <td>2006-02-15 04:34:33</td>\n",
       "      <td>25</td>\n",
       "      <td>2006-02-15 05:05:03</td>\n",
       "      <td>ANGELS LIFE</td>\n",
       "      <td>A Thoughtful Display of a Woman And a Astronau...</td>\n",
       "      <td>2006</td>\n",
       "      <td>1</td>\n",
       "      <td>None</td>\n",
       "      <td>3</td>\n",
       "      <td>2.99</td>\n",
       "      <td>74</td>\n",
       "      <td>15.99</td>\n",
       "      <td>G</td>\n",
       "      <td>Trailers</td>\n",
       "      <td>2006-02-15 05:03:42</td>\n",
       "    </tr>\n",
       "  </tbody>\n",
       "</table>\n",
       "</div>"
      ],
      "text/plain": [
       "   actor_id first_name last_name       last_update_x  film_id  \\\n",
       "0         1   PENELOPE   GUINESS 2006-02-15 04:34:33        1   \n",
       "1         1   PENELOPE   GUINESS 2006-02-15 04:34:33       23   \n",
       "2         1   PENELOPE   GUINESS 2006-02-15 04:34:33       25   \n",
       "\n",
       "        last_update_y                 title  \\\n",
       "0 2006-02-15 05:05:03      ACADEMY DINOSAUR   \n",
       "1 2006-02-15 05:05:03  ANACONDA CONFESSIONS   \n",
       "2 2006-02-15 05:05:03           ANGELS LIFE   \n",
       "\n",
       "                                         description  release_year  \\\n",
       "0  A Epic Drama of a Feminist And a Mad Scientist...          2006   \n",
       "1  A Lacklusture Display of a Dentist And a Denti...          2006   \n",
       "2  A Thoughtful Display of a Woman And a Astronau...          2006   \n",
       "\n",
       "   language_id original_language_id  rental_duration rental_rate  length  \\\n",
       "0            1                 None                6        0.99      86   \n",
       "1            1                 None                3        0.99      92   \n",
       "2            1                 None                3        2.99      74   \n",
       "\n",
       "  replacement_cost rating                  special_features  \\\n",
       "0            20.99     PG  Deleted Scenes,Behind the Scenes   \n",
       "1             9.99      R           Trailers,Deleted Scenes   \n",
       "2            15.99      G                          Trailers   \n",
       "\n",
       "          last_update  \n",
       "0 2006-02-15 05:03:42  \n",
       "1 2006-02-15 05:03:42  \n",
       "2 2006-02-15 05:03:42  "
      ]
     },
     "execution_count": 15,
     "metadata": {},
     "output_type": "execute_result"
    }
   ],
   "source": [
    "import time\n",
    "\n",
    "t1 = time.time()\n",
    "\n",
    "query1 = (\"SELECT * FROM sakila.actor;\")\n",
    "query2 = (\"SELECT * FROM sakila.film_actor;\")\n",
    "query3 = (\"SELECT * FROM sakila.film;\")\n",
    "\n",
    "# execute the query with the cursor\n",
    "cursor.execute(query1)\n",
    "# store the result in a python variable (list of tuples)\n",
    "result1 = cursor.fetchall()\n",
    "# convert my python variable to a dataframe\n",
    "actors = pd.DataFrame(result1, columns = [header[0] for header in cursor.description])\n",
    "\n",
    "cursor.execute(query2)\n",
    "result2 = cursor.fetchall()\n",
    "films_actors = pd.DataFrame(result2, columns = [header[0] for header in cursor.description])\n",
    "\n",
    "cursor.execute(query3)\n",
    "result3 = cursor.fetchall()\n",
    "films = pd.DataFrame(result3, columns = [header[0] for header in cursor.description])\n",
    "\n",
    "bridge = pd.merge(actors, films_actors, on='actor_id')\n",
    "final = pd.merge(bridge, films, on = 'film_id')\n",
    "\n",
    "print(time.time()-t1)\n",
    "final.head(3)"
   ]
  },
  {
   "cell_type": "markdown",
   "metadata": {},
   "source": [
    "### In SQL"
   ]
  },
  {
   "cell_type": "code",
   "execution_count": 16,
   "metadata": {},
   "outputs": [
    {
     "name": "stdout",
     "output_type": "stream",
     "text": [
      "0.21159982681274414\n"
     ]
    },
    {
     "data": {
      "text/html": [
       "<div>\n",
       "<style scoped>\n",
       "    .dataframe tbody tr th:only-of-type {\n",
       "        vertical-align: middle;\n",
       "    }\n",
       "\n",
       "    .dataframe tbody tr th {\n",
       "        vertical-align: top;\n",
       "    }\n",
       "\n",
       "    .dataframe thead th {\n",
       "        text-align: right;\n",
       "    }\n",
       "</style>\n",
       "<table border=\"1\" class=\"dataframe\">\n",
       "  <thead>\n",
       "    <tr style=\"text-align: right;\">\n",
       "      <th></th>\n",
       "      <th>actor_id</th>\n",
       "      <th>first_name</th>\n",
       "      <th>last_name</th>\n",
       "      <th>last_update</th>\n",
       "      <th>actor_id</th>\n",
       "      <th>film_id</th>\n",
       "      <th>last_update</th>\n",
       "      <th>film_id</th>\n",
       "      <th>title</th>\n",
       "      <th>description</th>\n",
       "      <th>release_year</th>\n",
       "      <th>language_id</th>\n",
       "      <th>original_language_id</th>\n",
       "      <th>rental_duration</th>\n",
       "      <th>rental_rate</th>\n",
       "      <th>length</th>\n",
       "      <th>replacement_cost</th>\n",
       "      <th>rating</th>\n",
       "      <th>special_features</th>\n",
       "      <th>last_update</th>\n",
       "    </tr>\n",
       "  </thead>\n",
       "  <tbody>\n",
       "    <tr>\n",
       "      <th>0</th>\n",
       "      <td>1</td>\n",
       "      <td>PENELOPE</td>\n",
       "      <td>GUINESS</td>\n",
       "      <td>2006-02-15 04:34:33</td>\n",
       "      <td>1</td>\n",
       "      <td>1</td>\n",
       "      <td>2006-02-15 05:05:03</td>\n",
       "      <td>1</td>\n",
       "      <td>ACADEMY DINOSAUR</td>\n",
       "      <td>A Epic Drama of a Feminist And a Mad Scientist...</td>\n",
       "      <td>2006</td>\n",
       "      <td>1</td>\n",
       "      <td>None</td>\n",
       "      <td>6</td>\n",
       "      <td>0.99</td>\n",
       "      <td>86</td>\n",
       "      <td>20.99</td>\n",
       "      <td>PG</td>\n",
       "      <td>Deleted Scenes,Behind the Scenes</td>\n",
       "      <td>2006-02-15 05:03:42</td>\n",
       "    </tr>\n",
       "    <tr>\n",
       "      <th>1</th>\n",
       "      <td>1</td>\n",
       "      <td>PENELOPE</td>\n",
       "      <td>GUINESS</td>\n",
       "      <td>2006-02-15 04:34:33</td>\n",
       "      <td>1</td>\n",
       "      <td>23</td>\n",
       "      <td>2006-02-15 05:05:03</td>\n",
       "      <td>23</td>\n",
       "      <td>ANACONDA CONFESSIONS</td>\n",
       "      <td>A Lacklusture Display of a Dentist And a Denti...</td>\n",
       "      <td>2006</td>\n",
       "      <td>1</td>\n",
       "      <td>None</td>\n",
       "      <td>3</td>\n",
       "      <td>0.99</td>\n",
       "      <td>92</td>\n",
       "      <td>9.99</td>\n",
       "      <td>R</td>\n",
       "      <td>Trailers,Deleted Scenes</td>\n",
       "      <td>2006-02-15 05:03:42</td>\n",
       "    </tr>\n",
       "    <tr>\n",
       "      <th>2</th>\n",
       "      <td>1</td>\n",
       "      <td>PENELOPE</td>\n",
       "      <td>GUINESS</td>\n",
       "      <td>2006-02-15 04:34:33</td>\n",
       "      <td>1</td>\n",
       "      <td>25</td>\n",
       "      <td>2006-02-15 05:05:03</td>\n",
       "      <td>25</td>\n",
       "      <td>ANGELS LIFE</td>\n",
       "      <td>A Thoughtful Display of a Woman And a Astronau...</td>\n",
       "      <td>2006</td>\n",
       "      <td>1</td>\n",
       "      <td>None</td>\n",
       "      <td>3</td>\n",
       "      <td>2.99</td>\n",
       "      <td>74</td>\n",
       "      <td>15.99</td>\n",
       "      <td>G</td>\n",
       "      <td>Trailers</td>\n",
       "      <td>2006-02-15 05:03:42</td>\n",
       "    </tr>\n",
       "  </tbody>\n",
       "</table>\n",
       "</div>"
      ],
      "text/plain": [
       "   actor_id first_name last_name         last_update  actor_id  film_id  \\\n",
       "0         1   PENELOPE   GUINESS 2006-02-15 04:34:33         1        1   \n",
       "1         1   PENELOPE   GUINESS 2006-02-15 04:34:33         1       23   \n",
       "2         1   PENELOPE   GUINESS 2006-02-15 04:34:33         1       25   \n",
       "\n",
       "          last_update  film_id                 title  \\\n",
       "0 2006-02-15 05:05:03        1      ACADEMY DINOSAUR   \n",
       "1 2006-02-15 05:05:03       23  ANACONDA CONFESSIONS   \n",
       "2 2006-02-15 05:05:03       25           ANGELS LIFE   \n",
       "\n",
       "                                         description  release_year  \\\n",
       "0  A Epic Drama of a Feminist And a Mad Scientist...          2006   \n",
       "1  A Lacklusture Display of a Dentist And a Denti...          2006   \n",
       "2  A Thoughtful Display of a Woman And a Astronau...          2006   \n",
       "\n",
       "   language_id original_language_id  rental_duration rental_rate  length  \\\n",
       "0            1                 None                6        0.99      86   \n",
       "1            1                 None                3        0.99      92   \n",
       "2            1                 None                3        2.99      74   \n",
       "\n",
       "  replacement_cost rating                  special_features  \\\n",
       "0            20.99     PG  Deleted Scenes,Behind the Scenes   \n",
       "1             9.99      R           Trailers,Deleted Scenes   \n",
       "2            15.99      G                          Trailers   \n",
       "\n",
       "          last_update  \n",
       "0 2006-02-15 05:03:42  \n",
       "1 2006-02-15 05:03:42  \n",
       "2 2006-02-15 05:03:42  "
      ]
     },
     "execution_count": 16,
     "metadata": {},
     "output_type": "execute_result"
    }
   ],
   "source": [
    "# the alternative would be \n",
    "t1 = time.time()\n",
    "\n",
    "query = (\"SELECT * \\\n",
    "         from sakila.actor as a INNER JOIN sakila.film_actor as fa \\\n",
    "                 on a.actor_id = fa.actor_id \\\n",
    "                     INNER JOIN sakila.film as f \\\n",
    "                         on f.film_id = fa.film_id ;\")\n",
    "\n",
    "cursor.execute(query)\n",
    "\n",
    "results = cursor.fetchall()\n",
    "df = pd.DataFrame(results, columns = [header[0] for header in cursor.description])\n",
    "\n",
    "print(time.time()-t1)\n",
    "df.head(3)"
   ]
  },
  {
   "cell_type": "markdown",
   "metadata": {},
   "source": [
    "## Inject and Manipulate data\n",
    "(Showcase with MySQL WorkBench side by side)"
   ]
  },
  {
   "cell_type": "code",
   "execution_count": 19,
   "metadata": {},
   "outputs": [],
   "source": [
    "query = (\"SELECT * FROM sakila.actor;\")\n",
    "# execute the query -> we need to call the cursor to execute our query\n",
    "cursor.execute(query)\n",
    "\n",
    "# this cursos currently holds the results of that query\n",
    "results = cursor.fetchall()\n",
    "\n",
    "import pandas as pd\n",
    "\n",
    "actors_df = pd.DataFrame(results)\n",
    "actors_df[\"full name\"] = actors_df[1] + \" \" +  actors_df[2] \n",
    "\n",
    "actors_df\n",
    "\n"
   ]
  },
  {
   "cell_type": "code",
   "execution_count": 21,
   "metadata": {},
   "outputs": [
    {
     "data": {
      "text/plain": [
       "0"
      ]
     },
     "execution_count": 21,
     "metadata": {},
     "output_type": "execute_result"
    }
   ],
   "source": [
    "query = (\"\"\"CREATE DATABASE labs\"\"\")\n",
    "cursor.execute(query)\n",
    "\n",
    "#X = input(\"please enter your default email\")\n",
    "\n",
    "query = (\"\"\"CREATE TABLE IF NOT EXISTS\n",
    "labs.demo(\n",
    "student_id INT PRIMARY KEY,\n",
    "student_name VARCHAR(52),\n",
    "email VARCHAR(32) DEFAULT \"john_doe@gmail.com\",\n",
    "coolness INT NOT NULL)\"\"\")\n",
    "\n",
    "cursor.execute(query)"
   ]
  },
  {
   "cell_type": "code",
   "execution_count": 22,
   "metadata": {},
   "outputs": [],
   "source": [
    "for index,fullname in zip(actors_df[0],actors_df['full name']):\n",
    "    query = \"\"\"INSERT INTO labs.demo(student_id, student_name, coolness) VALUES (\"\"\" + str(index+1000) +\", \\\"\"+ fullname + \"\\\",  10);\"\n",
    "    cursor.execute(query)\n",
    "\n",
    "## DROP DB for next lesson:\n",
    "#query = \"DROP DATABASE labs\"\n",
    "#cursor.execute(query)"
   ]
  },
  {
   "cell_type": "code",
   "execution_count": 17,
   "metadata": {},
   "outputs": [],
   "source": [
    "# The Python Wrapper for MSQL has generated changes to the database which must now be committed, this is done with the command\n",
    "# it's like \"Saving\" the changes made\n",
    "cnx.commit()\n",
    "#The cursor object has done it's job\n",
    "cursor.close()\n",
    "# and we now close the connection, you must always do this (good practice) or else the database might not be responsive to other connections.\n",
    "cnx.close() "
   ]
  }
 ],
 "metadata": {
  "kernelspec": {
   "display_name": "venv_ironhack",
   "language": "python",
   "name": "python3"
  },
  "language_info": {
   "codemirror_mode": {
    "name": "ipython",
    "version": 3
   },
   "file_extension": ".py",
   "mimetype": "text/x-python",
   "name": "python",
   "nbconvert_exporter": "python",
   "pygments_lexer": "ipython3",
   "version": "3.11.9"
  }
 },
 "nbformat": 4,
 "nbformat_minor": 2
}
